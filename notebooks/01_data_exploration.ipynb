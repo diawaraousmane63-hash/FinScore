# # FinScore - First Look at Our Data
# This notebook is our first step. We will load the simulated mobile money data and take a quick look to understand what we have.

## Step 1: Importing Tools
# We first need to import the Python tools that help us work with data.
import pandas as pd  # This tool is for working with tables of data

## Step 2: Loading the Data
# Let's load the data from the file we created.
# The '../' means we are going back one folder to find the 'data' folder.
data = pd.read_csv('../data/simulated_data.csv')

## Step 3: First Look
# Let's see the first 5 rows of our data to understand what information we have.
print("First 5 transactions in our dataset:")
print(data.head())

## Step 4: Basic Information
# Let's get some simple statistics about the money amounts in our data.
print("\nSummary of transaction amounts:")
print(data['amount'].describe())

# This is just the beginning. Next, we will look for patterns that can help us predict creditworthiness.
